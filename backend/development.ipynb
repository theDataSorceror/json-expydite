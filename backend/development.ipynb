{
 "cells": [
  {
   "cell_type": "code",
   "execution_count": 2,
   "metadata": {},
   "outputs": [],
   "source": [
    "import os\n",
    "import csv\n",
    "import io\n",
    "import json\n",
    "from uuid import uuid4\n",
    "from genson import SchemaBuilder\n",
    "from flatten_json import flatten, unflatten\n",
    "from datamodel_code_generator import DataModelType, PythonVersion\n",
    "from datamodel_code_generator.model import get_data_model_types\n",
    "from datamodel_code_generator.parser.jsonschema import JsonSchemaParser\n",
    "\n",
    "\n",
    "\n",
    "def json_to_json_schema(input_json):\n",
    "    input_dict = input_json.data\n",
    "    builder = SchemaBuilder()\n",
    "    builder.add_object(input_dict)\n",
    "    json_schema = builder.to_schema()\n",
    "    return json_schema"
   ]
  }
 ],
 "metadata": {
  "kernelspec": {
   "display_name": ".venv",
   "language": "python",
   "name": "python3"
  },
  "language_info": {
   "codemirror_mode": {
    "name": "ipython",
    "version": 3
   },
   "file_extension": ".py",
   "mimetype": "text/x-python",
   "name": "python",
   "nbconvert_exporter": "python",
   "pygments_lexer": "ipython3",
   "version": "3.12.9"
  }
 },
 "nbformat": 4,
 "nbformat_minor": 2
}
