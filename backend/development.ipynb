{
 "cells": [
  {
   "cell_type": "code",
   "execution_count": 127,
   "metadata": {},
   "outputs": [],
   "source": [
    "import os\n",
    "import csv\n",
    "import io\n",
    "import json\n",
    "from uuid import uuid4\n",
    "from flatten_json import flatten, unflatten\n",
    "from datamodel_code_generator import DataModelType, PythonVersion\n",
    "from datamodel_code_generator.model import get_data_model_types\n",
    "from datamodel_code_generator.parser.jsonschema import JsonSchemaParser\n"
   ]
  },
  {
   "cell_type": "code",
   "execution_count": 30,
   "metadata": {},
   "outputs": [],
   "source": [
    "test_schema = {\n",
    "    \"$schema\": \"http://json-schema.org/schema#\",\n",
    "    \"type\": \"object\",\n",
    "    \"properties\": {\n",
    "      \"hello\": {\n",
    "        \"type\": \"array\",\n",
    "        \"items\": {\n",
    "          \"type\": \"string\"\n",
    "        }\n",
    "      },\n",
    "      \"goodbye\": {\n",
    "        \"type\": \"object\",\n",
    "        \"properties\": {\n",
    "          \"lovers\": {\n",
    "            \"type\": \"array\"\n",
    "          },\n",
    "          \"friends\": {\n",
    "            \"type\": \"array\",\n",
    "            \"items\": {\n",
    "              \"type\": \"string\"\n",
    "            }\n",
    "          }\n",
    "        },\n",
    "        \"required\": [\n",
    "          \"friends\"\n",
    "        ]\n",
    "      },\n",
    "      \"fu\": {\n",
    "        \"type\": \"string\"\n",
    "      }\n",
    "    },\n",
    "    \"required\": [\n",
    "      \"fu\",\n",
    "      \"goodbye\",\n",
    "      \"hello\"\n",
    "    ]\n",
    "  }"
   ]
  },
  {
   "cell_type": "code",
   "execution_count": null,
   "metadata": {},
   "outputs": [],
   "source": [
    "\n",
    "def unflatten_schema(json_schema):\n",
    "    response = unflatten(json_schema)\n",
    "    return response\n",
    "\n",
    "\n",
    "\n"
   ]
  },
  {
   "cell_type": "code",
   "execution_count": 59,
   "metadata": {},
   "outputs": [
    {
     "data": {
      "text/plain": [
       "{'$schema': 'http://json-schema.org/schema#',\n",
       " 'type': 'object',\n",
       " 'properties.hello.type': 'array',\n",
       " 'properties.hello.items.type': 'string',\n",
       " 'properties.goodbye.type': 'object',\n",
       " 'properties.goodbye.properties.lovers.type': 'array',\n",
       " 'properties.goodbye.properties.friends.type': 'array',\n",
       " 'properties.goodbye.properties.friends.items.type': 'string',\n",
       " 'properties.goodbye.required.0': 'friends',\n",
       " 'properties.fu.type': 'string',\n",
       " 'required.0': 'fu',\n",
       " 'required.1': 'goodbye',\n",
       " 'required.2': 'hello'}"
      ]
     },
     "execution_count": 59,
     "metadata": {},
     "output_type": "execute_result"
    }
   ],
   "source": [
    "flattened"
   ]
  },
  {
   "cell_type": "code",
   "execution_count": 133,
   "metadata": {},
   "outputs": [],
   "source": [
    "\n",
    "def key_cleaner(key):\n",
    "    clean_key = key.replace(\"properties\", \"\")[1:]\n",
    "    clean_key = clean_key.replace(\"..\", \".\")\n",
    "    clean_key = clean_key.replace(\".type\", \"\")\n",
    "    clean_key = clean_key.replace(\"items\", \"\")\n",
    "    clean_key = clean_key[:-1] if clean_key[-1]==\".\" else clean_key\n",
    "    return clean_key\n",
    "\n",
    "def flat_schema_adjuster(flattened: dict):\n",
    "    clean_entries = {}\n",
    "    entries_being_processed = []\n",
    "    clean_entry_array =[]\n",
    "    loop_start = True\n",
    "    expecting_data_type=False\n",
    "    key_counter = 0\n",
    "    adjustable_keys = [key for key in flattened.keys() if key.startswith(\"properties\")]\n",
    "    key_in_process = adjustable_keys[-1]\n",
    "\n",
    "    for key in adjustable_keys:\n",
    "        clean_key = key_cleaner(key)\n",
    "        entry = flattened[key]\n",
    "        if \"required\" in key or entry==\"object\":\n",
    "            continue\n",
    "        if not loop_start and clean_key != key_in_process:\n",
    "            key_counter = 0\n",
    "            if key_counter == 0 and expecting_data_type:\n",
    "                clean_item['type']=None\n",
    "                clean_entry_array.append(clean_item)\n",
    "        if clean_key not in clean_entries.keys() and clean_key not in key_in_process:\n",
    "            expecting_data_type=False\n",
    "            clean_item = {\n",
    "                        \"uid\": str(uuid4()),\n",
    "                        \"name\": clean_key\n",
    "                        }\n",
    "            if entry == \"array\":\n",
    "                clean_item['array']=True\n",
    "                expecting_data_type = True\n",
    "            else:\n",
    "                clean_item[\"array\"]=False\n",
    "                clean_item[\"type\"] = entry\n",
    "        else:\n",
    "            clean_item['type'] = entry\n",
    "            expecting_data_type = False\n",
    "            \n",
    "        if \"type\" in clean_item.keys():\n",
    "            clean_entries[clean_key]=\"processed\"\n",
    "            clean_entry_array.append(clean_item)\n",
    "        if clean_key not in entries_being_processed:\n",
    "            entries_being_processed.append(clean_key)\n",
    "\n",
    "        key_in_process = clean_key\n",
    "        key_counter +=1\n",
    "        loop_start = False\n",
    "    return clean_entry_array\n",
    "\n",
    "def csv_string_writer(clean_array: list):\n",
    "    # Convert dictionary list to CSV string\n",
    "    output = io.StringIO()\n",
    "    fieldnames = clean_array[0].keys()\n",
    "    writer = csv.DictWriter(output, fieldnames=fieldnames)\n",
    "    \n",
    "    writer.writeheader()\n",
    "    writer.writerows(clean_array)\n",
    "\n",
    "    csv_string = output.getvalue()\n",
    "    return csv_string\n",
    "\n",
    "\n",
    "def schema_to_flat_csv(json_schema:dict):\n",
    "    flattened = flatten(json_schema,\n",
    "                       separator=\".\")\n",
    "    adjusted_schema = flat_schema_adjuster(flattened)\n",
    "    for entry in adjusted_schema:\n",
    "        entry['Required']=True\n",
    "        entry[\"Default\"]=None\n",
    "    schema_csv = csv_string_writer(adjusted_schema)\n",
    "    return schema_csv\n",
    "\n",
    "\n"
   ]
  },
  {
   "cell_type": "code",
   "execution_count": 137,
   "metadata": {},
   "outputs": [
    {
     "data": {
      "text/plain": [
       "'uid,name,array,type,Required,Default\\r\\nec10ca83-7683-45ff-a0e2-8015c8a4b719,hello,True,string,True,\\r\\n69fade43-91a3-4016-9ba1-a992a1e4f4db,goodbye.lovers,True,,True,\\r\\nf076da1c-01ea-44d6-9ec8-b7db6acfe0aa,goodbye.friends,True,string,True,\\r\\nf1bacd06-b195-4356-91d1-0b5fadffaf26,fu,False,string,True,\\r\\n'"
      ]
     },
     "execution_count": 137,
     "metadata": {},
     "output_type": "execute_result"
    }
   ],
   "source": [
    "csv_data = schema_to_flat_csv(test_schema)\n",
    "csv_data"
   ]
  },
  {
   "cell_type": "code",
   "execution_count": null,
   "metadata": {},
   "outputs": [
    {
     "data": {
      "text/plain": [
       "'uid,name,array,type\\r\\nbcf2c8ad-90b2-4faa-afef-0b0003243cba,hello,True,string\\r\\n26b34398-c5b8-4658-83a3-94bc573ad88d,goodbye.lovers,True,\\r\\nacd5e440-e5c8-46b8-bf64-fcf2a19e2dff,goodbye.friends,True,string\\r\\nfb1f6495-fdbf-4dcf-8888-00394002390b,fu,False,string\\r\\n'"
      ]
     },
     "execution_count": 128,
     "metadata": {},
     "output_type": "execute_result"
    }
   ],
   "source": [
    "\n"
   ]
  },
  {
   "cell_type": "code",
   "execution_count": 31,
   "metadata": {},
   "outputs": [
    {
     "name": "stdout",
     "output_type": "stream",
     "text": [
      "from __future__ import annotations\n",
      "\n",
      "from typing import List, Optional\n",
      "\n",
      "from pydantic import BaseModel\n",
      "\n",
      "\n",
      "class Goodbye(BaseModel):\n",
      "    lovers: Optional[List] = None\n",
      "    friends: List[str]\n",
      "\n",
      "\n",
      "class Model(BaseModel):\n",
      "    hello: List[str]\n",
      "    goodbye: Goodbye\n",
      "    fu: str\n",
      "\n"
     ]
    }
   ],
   "source": [
    "data_model_types = get_data_model_types(\n",
    "    DataModelType.PydanticV2BaseModel,\n",
    "    target_python_version=PythonVersion.PY_312\n",
    ")\n",
    "parser = JsonSchemaParser(\n",
    "   json.dumps(test_schema),\n",
    "   data_model_type=data_model_types.data_model,\n",
    "   data_model_root_type=data_model_types.root_model,\n",
    "   data_model_field_type=data_model_types.field_model,\n",
    "   data_type_manager_type=data_model_types.data_type_manager,\n",
    "   dump_resolve_reference_action=data_model_types.dump_resolve_reference_action,\n",
    "                       )\n",
    "result = parser.parse()\n",
    "print(result)"
   ]
  },
  {
   "cell_type": "code",
   "execution_count": 53,
   "metadata": {},
   "outputs": [
    {
     "data": {
      "text/plain": [
       "'0fb0a94f-70ed-4739-aeea-750c567517e6'"
      ]
     },
     "execution_count": 53,
     "metadata": {},
     "output_type": "execute_result"
    }
   ],
   "source": [
    "str(uuid4())"
   ]
  },
  {
   "cell_type": "code",
   "execution_count": null,
   "metadata": {},
   "outputs": [],
   "source": []
  }
 ],
 "metadata": {
  "kernelspec": {
   "display_name": ".venv",
   "language": "python",
   "name": "python3"
  },
  "language_info": {
   "codemirror_mode": {
    "name": "ipython",
    "version": 3
   },
   "file_extension": ".py",
   "mimetype": "text/x-python",
   "name": "python",
   "nbconvert_exporter": "python",
   "pygments_lexer": "ipython3",
   "version": "3.12.9"
  }
 },
 "nbformat": 4,
 "nbformat_minor": 2
}
