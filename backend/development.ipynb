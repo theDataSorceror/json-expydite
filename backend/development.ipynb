{
 "cells": [
  {
   "cell_type": "code",
   "execution_count": 2,
   "metadata": {},
   "outputs": [],
   "source": [
    "import os\n",
    "import csv\n",
    "import io\n",
    "import json\n",
    "from uuid import uuid4\n",
    "from genson import SchemaBuilder\n",
    "# from flatten_json import flatten, unflatten\n",
    "# from datamodel_code_generator import DataModelType, PythonVersion\n",
    "# from datamodel_code_generator.model import get_data_model_types\n",
    "# from datamodel_code_generator.parser.jsonschema import JsonSchemaParser\n",
    "\n",
    "\n",
    "def json_to_json_schema(input_json):\n",
    "    input_dict = input_json.data\n",
    "    builder = SchemaBuilder()\n",
    "    builder.add_object(input_dict)\n",
    "    json_schema = builder.to_schema()\n",
    "    return json_schema"
   ]
  },
  {
   "cell_type": "code",
   "execution_count": null,
   "metadata": {},
   "outputs": [],
   "source": []
  },
  {
   "cell_type": "code",
   "execution_count": 98,
   "metadata": {},
   "outputs": [
    {
     "name": "stdout",
     "output_type": "stream",
     "text": [
      "['uid,Name,Array,Type,Required,Default\\r', '0c5549e5-40f0-4b2b-b993-da60eb594cd6,hello,True,string,True,efff2', 'f7c38eba-5cbb-49c9-9719-ffcb12b0be6b,goodbye.lovers,True,boolean,True,3412341234', '96c3f8b4-6ad4-48af-bd60-352801fb035f,goodbye.friends,True,number,True,12345', '2673f249-f945-4b9e-ac40-10a98ffdc489,fu,False,,True,\\r', '627f9e99-0c1d-458a-b8ec-64aeaebe913c,bar,False,object,True,\\r', '']\n"
     ]
    }
   ],
   "source": [
    "\n",
    "test_string = 'uid,Name,Array,Type,Required,Default\\r\\n0c5549e5-40f0-4b2b-b993-da60eb594cd6,hello,True,string,True,efff2\\nf7c38eba-5cbb-49c9-9719-ffcb12b0be6b,goodbye.lovers,True,boolean,True,3412341234\\n96c3f8b4-6ad4-48af-bd60-352801fb035f,goodbye.friends,True,number,True,12345\\n2673f249-f945-4b9e-ac40-10a98ffdc489,fu,False,,True,\\r\\n627f9e99-0c1d-458a-b8ec-64aeaebe913c,bar,False,object,True,\\r\\n'\n",
    "\n",
    "csv_string = test_string\n",
    "\n",
    "csv_array = test_string.split('\\n')\n",
    "print(csv_array)\n",
    "schema_objects = {}\n",
    "for row in csv_array:\n",
    "    if row != '':\n",
    "        row = row.replace(\"\\r\", \"\").split(',')\n",
    "        if 'uid'==row[0]:\n",
    "            name_index = row.index('Name')\n",
    "            array_index = row.index('Array')\n",
    "            type_index = row.index('Type')\n",
    "            required_index = row.index('Required')\n",
    "            default_index = row.index('Default')\n",
    "        else:\n",
    "            row_string = 'properties.' + row[name_index].replace('.', '.properties.')\n",
    "            if row[array_index]=='True':\n",
    "                array_string = row_string + '.type'\n",
    "                schema_objects[array_string] = 'Array'                \n",
    "                schema_objects[row_string + '.items.type'] = row[type_index]\n",
    "            else:\n",
    "                schema_objects[row_string + '.type'] = row[type_index]\n",
    "\n",
    "\n",
    "\n"
   ]
  },
  {
   "cell_type": "code",
   "execution_count": 99,
   "metadata": {},
   "outputs": [
    {
     "data": {
      "text/plain": [
       "{'properties.hello.type': 'Array',\n",
       " 'properties.hello.items.type': 'string',\n",
       " 'properties.goodbye.properties.lovers.type': 'Array',\n",
       " 'properties.goodbye.properties.lovers.items.type': 'boolean',\n",
       " 'properties.goodbye.properties.friends.type': 'Array',\n",
       " 'properties.goodbye.properties.friends.items.type': 'number',\n",
       " 'properties.fu.type': '',\n",
       " 'properties.bar.type': 'object'}"
      ]
     },
     "execution_count": 99,
     "metadata": {},
     "output_type": "execute_result"
    }
   ],
   "source": [
    "schema_objects"
   ]
  },
  {
   "cell_type": "code",
   "execution_count": 100,
   "metadata": {},
   "outputs": [
    {
     "data": {
      "text/plain": [
       "['uid,Name,Array,Type,Required,Default\\r',\n",
       " '0c5549e5-40f0-4b2b-b993-da60eb594cd6,hello,True,string,True,efff2',\n",
       " 'f7c38eba-5cbb-49c9-9719-ffcb12b0be6b,goodbye.lovers,True,boolean,True,3412341234',\n",
       " '96c3f8b4-6ad4-48af-bd60-352801fb035f,goodbye.friends,True,number,True,12345',\n",
       " '2673f249-f945-4b9e-ac40-10a98ffdc489,fu,False,,True,\\r',\n",
       " '627f9e99-0c1d-458a-b8ec-64aeaebe913c,bar,False,object,True,\\r',\n",
       " '']"
      ]
     },
     "execution_count": 100,
     "metadata": {},
     "output_type": "execute_result"
    }
   ],
   "source": [
    "csv_array"
   ]
  },
  {
   "cell_type": "code",
   "execution_count": null,
   "metadata": {},
   "outputs": [],
   "source": []
  }
 ],
 "metadata": {
  "kernelspec": {
   "display_name": ".venv",
   "language": "python",
   "name": "python3"
  },
  "language_info": {
   "codemirror_mode": {
    "name": "ipython",
    "version": 3
   },
   "file_extension": ".py",
   "mimetype": "text/x-python",
   "name": "python",
   "nbconvert_exporter": "python",
   "pygments_lexer": "ipython3",
   "version": "3.12.9"
  }
 },
 "nbformat": 4,
 "nbformat_minor": 2
}
