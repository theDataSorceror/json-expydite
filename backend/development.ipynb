{
 "cells": [
  {
   "cell_type": "code",
   "execution_count": 2,
   "metadata": {},
   "outputs": [],
   "source": [
    "import os\n",
    "import csv\n",
    "import io\n",
    "import json\n",
    "from uuid import uuid4\n",
    "from genson import SchemaBuilder\n",
    "# from flatten_json import flatten, unflatten\n",
    "# from datamodel_code_generator import DataModelType, PythonVersion\n",
    "# from datamodel_code_generator.model import get_data_model_types\n",
    "# from datamodel_code_generator.parser.jsonschema import JsonSchemaParser\n",
    "\n",
    "\n",
    "def json_to_json_schema(input_json):\n",
    "    input_dict = input_json.data\n",
    "    builder = SchemaBuilder()\n",
    "    builder.add_object(input_dict)\n",
    "    json_schema = builder.to_schema()\n",
    "    return json_schema"
   ]
  },
  {
   "cell_type": "code",
   "execution_count": 54,
   "metadata": {},
   "outputs": [],
   "source": [
    "test_string = 'uid,Name,Array,Type,Required,Default\\r\\n0c5549e5-40f0-4b2b-b993-da60eb594cd6,hello,True,string,True,efff2\\nf7c38eba-5cbb-49c9-9719-ffcb12b0be6b,goodbye.lovers,True,boolean,True,3412341234\\n96c3f8b4-6ad4-48af-bd60-352801fb035f,goodbye.friends,True,number,True,12345\\n2673f249-f945-4b9e-ac40-10a98ffdc489,fu,False,,True,\\r\\n627f9e99-0c1d-458a-b8ec-64aeaebe913c,bar,False,object,True,\\r\\n'\n"
   ]
  },
  {
   "cell_type": "code",
   "execution_count": null,
   "metadata": {},
   "outputs": [],
   "source": [
    "\n",
    "\n",
    "\n",
    "\n"
   ]
  },
  {
   "cell_type": "code",
   "execution_count": 73,
   "metadata": {},
   "outputs": [
    {
     "data": {
      "text/plain": [
       "['Missing datatype on row 4', 'Type and Default mismatch on row 2']"
      ]
     },
     "execution_count": 73,
     "metadata": {},
     "output_type": "execute_result"
    }
   ],
   "source": [
    "all_errors"
   ]
  },
  {
   "cell_type": "code",
   "execution_count": null,
   "metadata": {},
   "outputs": [
    {
     "data": {
      "text/plain": [
       "True"
      ]
     },
     "execution_count": 60,
     "metadata": {},
     "output_type": "execute_result"
    }
   ],
   "source": []
  },
  {
   "cell_type": "code",
   "execution_count": null,
   "metadata": {},
   "outputs": [],
   "source": []
  }
 ],
 "metadata": {
  "kernelspec": {
   "display_name": ".venv",
   "language": "python",
   "name": "python3"
  },
  "language_info": {
   "codemirror_mode": {
    "name": "ipython",
    "version": 3
   },
   "file_extension": ".py",
   "mimetype": "text/x-python",
   "name": "python",
   "nbconvert_exporter": "python",
   "pygments_lexer": "ipython3",
   "version": "3.12.9"
  }
 },
 "nbformat": 4,
 "nbformat_minor": 2
}
